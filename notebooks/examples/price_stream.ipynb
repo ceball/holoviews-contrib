{
 "cells": [
  {
   "cell_type": "markdown",
   "metadata": {},
   "source": [
    "<div class=\"contentcontainer med left\" style=\"margin-left: -50px;\">\n",
    "<dl class=\"dl-horizontal\">\n",
    "  <dt>Description</dt> <dd>Price Stream example</dd>\n",
    "  <dt>Author</dt> <dd>Jean-Luc Stevens</dd>\n",
    "  <dt>HoloViews</dt> <dd>>1.6.2</dd>\n",
    "  <dt>Python</dt> <dd>2.7</dd>\n",
    "</dl>\n",
    "</div>"
   ]
  },
  {
   "cell_type": "markdown",
   "metadata": {},
   "source": [
    "This short example shows how to capture the history of a HoloViews stream, which is a simple object with a set of parameters that allow events to affect a displayable HoloViews object. For more information on streams, please view the [quickstart guide](../quickstart/Streams.ipynb).\n",
    "\n",
    "This notebook uses core HoloViews together with the matplotlib backend to demonstrate how you could visualize a timeseries by capturing live events, namely the price of some commodity. For this example, lets say we have a source of data (e.g online) updating us with the current price of sugar."
   ]
  },
  {
   "cell_type": "code",
   "execution_count": null,
   "metadata": {
    "collapsed": false
   },
   "outputs": [],
   "source": [
    "import holoviews as hv\n",
    "import numpy as np\n",
    "from holoviews.streams import Stream\n",
    "hv.notebook_extension()"
   ]
  },
  {
   "cell_type": "markdown",
   "metadata": {},
   "source": [
    "To start we declare a custom Stream (see the [quickstart guide](../quickstart/Streams.ipynb) for another simple example) by subclassing from ``Stream`` and declaring a suitable parameter:"
   ]
  },
  {
   "cell_type": "code",
   "execution_count": null,
   "metadata": {
    "collapsed": false
   },
   "outputs": [],
   "source": [
    "import param\n",
    "\n",
    "class SugarPrice(Stream):\n",
    "    \"\"\"\n",
    "    The SugarPrice stream that has a single parameter, namely price.\n",
    "    \"\"\"\n",
    "    price = param.Number(default=0, doc=\"\"\"\n",
    "        The current price of hypothetical sugar\"\"\")"
   ]
  },
  {
   "cell_type": "markdown",
   "metadata": {},
   "source": [
    "As expected, we can make an instance of ``SugarPrice``, inspect the price of sugar and update it as necessary:"
   ]
  },
  {
   "cell_type": "code",
   "execution_count": null,
   "metadata": {
    "collapsed": false
   },
   "outputs": [],
   "source": [
    "sugar_price = SugarPrice()\n",
    "print('Initial price of sugar: %r' % sugar_price.price)"
   ]
  },
  {
   "cell_type": "code",
   "execution_count": null,
   "metadata": {
    "collapsed": false
   },
   "outputs": [],
   "source": [
    "sugar_price.update(price=0.5)\n",
    "print('Updated price of sugar: %r' % sugar_price.price)"
   ]
  },
  {
   "cell_type": "markdown",
   "metadata": {},
   "source": [
    "The difference between this example and most other streams examples is that we will visualize the price of sugar over some history. As ``Stream`` objects do not automatically keep track of previous values, we have to do this ourselves. Thankfully, the Python standard library offers a useful ``deque`` object that can help us with this task:"
   ]
  },
  {
   "cell_type": "code",
   "execution_count": null,
   "metadata": {
    "collapsed": true
   },
   "outputs": [],
   "source": [
    "from collections import deque\n",
    "\n",
    "def price_curve(price, history=deque(maxlen=100)):\n",
    "    history.append(price)\n",
    "    return hv.Curve(list(history), group='Simulated price of sugar')"
   ]
  },
  {
   "cell_type": "markdown",
   "metadata": {},
   "source": [
    "This callback declare a ``deque`` to store a hundred sugar price values. Every time it is called, it add the current price to the ``deque`` and represents the full history as a ``hv.Curve`` object."
   ]
  },
  {
   "cell_type": "code",
   "execution_count": null,
   "metadata": {
    "collapsed": false
   },
   "outputs": [],
   "source": [
    "hv.DynamicMap(price_curve, kdims=[], streams=[sugar_price])"
   ]
  },
  {
   "cell_type": "markdown",
   "metadata": {},
   "source": [
    "At this point we can update the visualization with sugar prices that could come from any source (e.g a live stream online). For this example, we will just generate 150 values between zero and one. When you run the following cell, you'll see the visualization dynamically update above:"
   ]
  },
  {
   "cell_type": "code",
   "execution_count": null,
   "metadata": {
    "collapsed": false
   },
   "outputs": [],
   "source": [
    "for i in range(150):\n",
    "    sugar_price.update(price=np.random.rand())"
   ]
  },
  {
   "cell_type": "markdown",
   "metadata": {},
   "source": [
    "Using ``deque`` in this way is quick and convenient for building such a visualization. It is not necessarily the most robust way, as a single deque object has been declared as a default argument of our callback function. This makes it hard to reset the history and makes it difficult to use the same function to model multiple price streams. A more robust approach is to write a callable class while declaring more appropriate key and value dimension names:"
   ]
  },
  {
   "cell_type": "code",
   "execution_count": null,
   "metadata": {
    "collapsed": true
   },
   "outputs": [],
   "source": [
    "class PriceCurve(object):\n",
    "    \n",
    "    def __init__(self):\n",
    "        self.history=deque(maxlen=100)\n",
    "        \n",
    "    def __call__(self, price):\n",
    "        self.history.append(price)\n",
    "        return hv.Curve(list(self.history),  kdims=['Count'], vdims=['Price'], \n",
    "                        group='Simulated price of sugar')"
   ]
  },
  {
   "cell_type": "markdown",
   "metadata": {},
   "source": [
    "Using our class, we can visualize multiple independent price histories without a problem, by declaring separate ``deque`` and stream state. Here is a price stream visualized with our random numbers varying between zero and ten:"
   ]
  },
  {
   "cell_type": "code",
   "execution_count": null,
   "metadata": {
    "collapsed": false
   },
   "outputs": [],
   "source": [
    "sugar_price_10x = SugarPrice(price=10)\n",
    "hv.DynamicMap(PriceCurve(), kdims=[], streams=[sugar_price_10x])"
   ]
  },
  {
   "cell_type": "code",
   "execution_count": null,
   "metadata": {
    "collapsed": true
   },
   "outputs": [],
   "source": [
    "for i in range(150):\n",
    "    sugar_price_10x.update(price=10*np.random.rand())"
   ]
  },
  {
   "cell_type": "markdown",
   "metadata": {},
   "source": [
    "And a price stream visualized with our random numbers varying between zero and a hundred:"
   ]
  },
  {
   "cell_type": "code",
   "execution_count": null,
   "metadata": {
    "collapsed": false
   },
   "outputs": [],
   "source": [
    "sugar_price_100x = SugarPrice(price=100)\n",
    "hv.DynamicMap(PriceCurve(), kdims=[], streams=[sugar_price_100x])"
   ]
  },
  {
   "cell_type": "code",
   "execution_count": null,
   "metadata": {
    "collapsed": true
   },
   "outputs": [],
   "source": [
    "for i in range(150):\n",
    "    sugar_price_100x.update(price=100*np.random.rand())"
   ]
  },
  {
   "cell_type": "markdown",
   "metadata": {},
   "source": [
    "Of course, you could use any approach you like to store the history! This notebook simply illustrates two approaches, namely using ``deque`` in a simple function or using ``deque`` in a custom class. This simple example could also be extended in various ways: for instance, you might give the ``SugarPrice`` stream an additional parameter, namely a timestamp (e.g the value of ``time.time()``) which could the be plotted appropriately along the x-axis. Try it!"
   ]
  }
 ],
 "metadata": {
  "kernelspec": {
   "display_name": "Python 2",
   "language": "python",
   "name": "python2"
  },
  "language_info": {
   "codemirror_mode": {
    "name": "ipython",
    "version": 2
   },
   "file_extension": ".py",
   "mimetype": "text/x-python",
   "name": "python",
   "nbconvert_exporter": "python",
   "pygments_lexer": "ipython2",
   "version": "2.7.12"
  }
 },
 "nbformat": 4,
 "nbformat_minor": 0
}
